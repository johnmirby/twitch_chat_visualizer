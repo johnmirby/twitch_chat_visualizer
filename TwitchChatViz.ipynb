{
 "cells": [
  {
   "cell_type": "code",
   "execution_count": 3,
   "metadata": {},
   "outputs": [],
   "source": [
    "# Visulaize Twitch chat n-gram frequency over time\n",
    "import pandas as pd\n",
    "import matplotlib.pyplot as plt\n",
    "#plotly express? seaborn?\n",
    "\n",
    "dirid=\"/Users/admin/Desktop/Thesis/hasan_logs/nicki/day1/\"\n",
    "docid=\"v1148677141\"\n",
    "csvname=dirid + docid + \".csv\"\n",
    "\n",
    "df = pd.read_csv(csvname)\n",
    "# df.head(10)"
   ]
  },
  {
   "cell_type": "code",
   "execution_count": null,
   "metadata": {},
   "outputs": [],
   "source": [
    "# Visulaize Twitch chat n-gram frequency over time\n",
    "import pandas as pd\n",
    "import matplotlib.pyplot as plt\n",
    "#plotly express? seaborn?\n",
    "\n",
    "dirid=\"/Users/admin/Desktop/Thesis/hasan_logs/nicki/day2/\"\n",
    "docid=\"v1150496968\"\n",
    "csvname=dirid + docid + \".csv\"\n",
    "\n",
    "df = pd.read_csv(csvname)\n",
    "# df.head(10)"
   ]
  }
 ],
 "metadata": {
  "interpreter": {
   "hash": "651c3b7b3f466eb030aa737f279c846be4db9cba49a2f229278cab5e41121ed5"
  },
  "kernelspec": {
   "display_name": "Python 3.8.5 64-bit ('base': conda)",
   "name": "python3"
  },
  "language_info": {
   "codemirror_mode": {
    "name": "ipython",
    "version": 3
   },
   "file_extension": ".py",
   "mimetype": "text/x-python",
   "name": "python",
   "nbconvert_exporter": "python",
   "pygments_lexer": "ipython3",
   "version": "3.8.5"
  },
  "orig_nbformat": 4
 },
 "nbformat": 4,
 "nbformat_minor": 2
}
