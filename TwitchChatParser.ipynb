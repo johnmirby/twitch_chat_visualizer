{
 "cells": [
  {
   "cell_type": "code",
   "execution_count": 5,
   "metadata": {},
   "outputs": [
    {
     "data": {
      "text/html": [
       "<div>\n",
       "<style scoped>\n",
       "    .dataframe tbody tr th:only-of-type {\n",
       "        vertical-align: middle;\n",
       "    }\n",
       "\n",
       "    .dataframe tbody tr th {\n",
       "        vertical-align: top;\n",
       "    }\n",
       "\n",
       "    .dataframe thead th {\n",
       "        text-align: right;\n",
       "    }\n",
       "</style>\n",
       "<table border=\"1\" class=\"dataframe\">\n",
       "  <thead>\n",
       "    <tr style=\"text-align: right;\">\n",
       "      <th></th>\n",
       "      <th>0</th>\n",
       "    </tr>\n",
       "  </thead>\n",
       "  <tbody>\n",
       "    <tr>\n",
       "      <th>0</th>\n",
       "      <td>[0:00:05,744] &lt;assaultkifIe47&gt; BAITER WeirdDude</td>\n",
       "    </tr>\n",
       "    <tr>\n",
       "      <th>1</th>\n",
       "      <td>[0:00:05,876] &lt;Thunderstrum&gt; PogU</td>\n",
       "    </tr>\n",
       "    <tr>\n",
       "      <th>2</th>\n",
       "      <td>[0:00:05,917] &lt;keepitreal200&gt; PogU</td>\n",
       "    </tr>\n",
       "    <tr>\n",
       "      <th>3</th>\n",
       "      <td>[0:00:06,320] &lt;MatthausGames&gt; PogU</td>\n",
       "    </tr>\n",
       "    <tr>\n",
       "      <th>4</th>\n",
       "      <td>[0:00:06,360] &lt;smol_wolfboi&gt; cock is nice oliv...</td>\n",
       "    </tr>\n",
       "    <tr>\n",
       "      <th>5</th>\n",
       "      <td>[0:00:06,498] &lt;runniebunny&gt; PogU</td>\n",
       "    </tr>\n",
       "    <tr>\n",
       "      <th>6</th>\n",
       "      <td>[0:00:06,547] &lt;maulds&gt; LETSGO</td>\n",
       "    </tr>\n",
       "    <tr>\n",
       "      <th>7</th>\n",
       "      <td>[0:00:06,583] &lt;JECZ7&gt; PogU</td>\n",
       "    </tr>\n",
       "    <tr>\n",
       "      <th>8</th>\n",
       "      <td>[0:00:06,712] &lt;femmejean&gt; LETS GOOOOOOOOOOOOO</td>\n",
       "    </tr>\n",
       "    <tr>\n",
       "      <th>9</th>\n",
       "      <td>[0:00:06,790] &lt;onion_person_&gt; KEKW</td>\n",
       "    </tr>\n",
       "  </tbody>\n",
       "</table>\n",
       "</div>"
      ],
      "text/plain": [
       "                                                   0\n",
       "0    [0:00:05,744] <assaultkifIe47> BAITER WeirdDude\n",
       "1                  [0:00:05,876] <Thunderstrum> PogU\n",
       "2                 [0:00:05,917] <keepitreal200> PogU\n",
       "3                 [0:00:06,320] <MatthausGames> PogU\n",
       "4  [0:00:06,360] <smol_wolfboi> cock is nice oliv...\n",
       "5                   [0:00:06,498] <runniebunny> PogU\n",
       "6                      [0:00:06,547] <maulds> LETSGO\n",
       "7                         [0:00:06,583] <JECZ7> PogU\n",
       "8      [0:00:06,712] <femmejean> LETS GOOOOOOOOOOOOO\n",
       "9                 [0:00:06,790] <onion_person_> KEKW"
      ]
     },
     "execution_count": 5,
     "metadata": {},
     "output_type": "execute_result"
    }
   ],
   "source": [
    "import numpy as np\n",
    "import pandas as pd\n",
    "import matplotlib.pyplot as plt\n",
    "import seaborn as sns\n",
    "\n",
    "import csv\n",
    "import string\n",
    "\n",
    "logname=\"../hasan_logs/nicki/day1/v1148677141.txt\"\n",
    "\n",
    "df=pd.read_csv(logname,header=None,delimiter='\\n',error_bad_lines=False)\n",
    "\n",
    "df.head(10)\n"
   ]
  }
 ],
 "metadata": {
  "interpreter": {
   "hash": "651c3b7b3f466eb030aa737f279c846be4db9cba49a2f229278cab5e41121ed5"
  },
  "kernelspec": {
   "display_name": "Python 3.8.5 64-bit ('base': conda)",
   "name": "python3"
  },
  "language_info": {
   "codemirror_mode": {
    "name": "ipython",
    "version": 3
   },
   "file_extension": ".py",
   "mimetype": "text/x-python",
   "name": "python",
   "nbconvert_exporter": "python",
   "pygments_lexer": "ipython3",
   "version": "3.8.5"
  },
  "orig_nbformat": 4
 },
 "nbformat": 4,
 "nbformat_minor": 2
}
