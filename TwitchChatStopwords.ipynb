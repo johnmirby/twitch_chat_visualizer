{
 "cells": [
  {
   "cell_type": "code",
   "execution_count": 27,
   "metadata": {},
   "outputs": [],
   "source": [
    "# lil notebook to remove stopwords from the twitch chatlogs\n",
    "import pandas as pd\n",
    "import numpy as np\n",
    "import nltk\n",
    "from nltk.corpus import stopwords\n",
    "stop = stopwords.words('english')\n",
    "\n",
    "#read in csv from TwitchChatInfoGet.ipynb\n",
    "dirid=\"/Users/admin/Desktop/Thesis/hasan_logs/nicki/day1/\"\n",
    "docid=\"v1148677141\"\n",
    "csvname=dirid + docid + \".csv\"\n",
    "\n",
    "df = pd.read_csv(csvname)\n",
    "df.index.names=['msg_num']\n",
    "df=df.set_index('timecode')"
   ]
  },
  {
   "cell_type": "code",
   "execution_count": 28,
   "metadata": {},
   "outputs": [],
   "source": [
    "df = df[df['msg_token'].notnull()]"
   ]
  },
  {
   "cell_type": "code",
   "execution_count": 29,
   "metadata": {},
   "outputs": [],
   "source": [
    "nonstop = df\n",
    "#remove nltk stopwords\n",
    "nonstop['msg_token'] = nonstop['msg_token'].apply(lambda x: ' '.join([word for word in x.split() if word not in (stop)]))\n",
    "#replace empty token rows with NaNs\n",
    "nonstop['msg_token'].replace('', np.nan, inplace=True)\n",
    "#remove NaN rows\n",
    "nonstop.dropna(subset=['msg_token'], inplace=True)"
   ]
  },
  {
   "cell_type": "code",
   "execution_count": 30,
   "metadata": {},
   "outputs": [
    {
     "data": {
      "text/html": [
       "<div>\n",
       "<style scoped>\n",
       "    .dataframe tbody tr th:only-of-type {\n",
       "        vertical-align: middle;\n",
       "    }\n",
       "\n",
       "    .dataframe tbody tr th {\n",
       "        vertical-align: top;\n",
       "    }\n",
       "\n",
       "    .dataframe thead th {\n",
       "        text-align: right;\n",
       "    }\n",
       "</style>\n",
       "<table border=\"1\" class=\"dataframe\">\n",
       "  <thead>\n",
       "    <tr style=\"text-align: right;\">\n",
       "      <th></th>\n",
       "      <th>username</th>\n",
       "      <th>message</th>\n",
       "      <th>msg_token</th>\n",
       "    </tr>\n",
       "    <tr>\n",
       "      <th>timecode</th>\n",
       "      <th></th>\n",
       "      <th></th>\n",
       "      <th></th>\n",
       "    </tr>\n",
       "  </thead>\n",
       "  <tbody>\n",
       "    <tr>\n",
       "      <th>0:00:05:744</th>\n",
       "      <td>assaultkifIe47</td>\n",
       "      <td>BAITER WeirdDude</td>\n",
       "      <td>BAITER</td>\n",
       "    </tr>\n",
       "    <tr>\n",
       "      <th>0:00:05:744</th>\n",
       "      <td>assaultkifIe47</td>\n",
       "      <td>BAITER WeirdDude</td>\n",
       "      <td>WeirdDude</td>\n",
       "    </tr>\n",
       "    <tr>\n",
       "      <th>0:00:05:876</th>\n",
       "      <td>Thunderstrum</td>\n",
       "      <td>PogU</td>\n",
       "      <td>PogU</td>\n",
       "    </tr>\n",
       "    <tr>\n",
       "      <th>0:00:05:917</th>\n",
       "      <td>keepitreal200</td>\n",
       "      <td>PogU</td>\n",
       "      <td>PogU</td>\n",
       "    </tr>\n",
       "    <tr>\n",
       "      <th>0:00:06:320</th>\n",
       "      <td>MatthausGames</td>\n",
       "      <td>PogU</td>\n",
       "      <td>PogU</td>\n",
       "    </tr>\n",
       "    <tr>\n",
       "      <th>0:00:06:360</th>\n",
       "      <td>smol_wolfboi</td>\n",
       "      <td>cock is nice oliver i agree</td>\n",
       "      <td>cock</td>\n",
       "    </tr>\n",
       "    <tr>\n",
       "      <th>0:00:06:360</th>\n",
       "      <td>smol_wolfboi</td>\n",
       "      <td>cock is nice oliver i agree</td>\n",
       "      <td>nice</td>\n",
       "    </tr>\n",
       "    <tr>\n",
       "      <th>0:00:06:360</th>\n",
       "      <td>smol_wolfboi</td>\n",
       "      <td>cock is nice oliver i agree</td>\n",
       "      <td>oliver</td>\n",
       "    </tr>\n",
       "    <tr>\n",
       "      <th>0:00:06:360</th>\n",
       "      <td>smol_wolfboi</td>\n",
       "      <td>cock is nice oliver i agree</td>\n",
       "      <td>agree</td>\n",
       "    </tr>\n",
       "    <tr>\n",
       "      <th>0:00:06:498</th>\n",
       "      <td>runniebunny</td>\n",
       "      <td>PogU</td>\n",
       "      <td>PogU</td>\n",
       "    </tr>\n",
       "  </tbody>\n",
       "</table>\n",
       "</div>"
      ],
      "text/plain": [
       "                   username                      message  msg_token\n",
       "timecode                                                           \n",
       "0:00:05:744  assaultkifIe47             BAITER WeirdDude     BAITER\n",
       "0:00:05:744  assaultkifIe47             BAITER WeirdDude  WeirdDude\n",
       "0:00:05:876    Thunderstrum                         PogU       PogU\n",
       "0:00:05:917   keepitreal200                         PogU       PogU\n",
       "0:00:06:320   MatthausGames                         PogU       PogU\n",
       "0:00:06:360    smol_wolfboi  cock is nice oliver i agree       cock\n",
       "0:00:06:360    smol_wolfboi  cock is nice oliver i agree       nice\n",
       "0:00:06:360    smol_wolfboi  cock is nice oliver i agree     oliver\n",
       "0:00:06:360    smol_wolfboi  cock is nice oliver i agree      agree\n",
       "0:00:06:498     runniebunny                         PogU       PogU"
      ]
     },
     "execution_count": 30,
     "metadata": {},
     "output_type": "execute_result"
    }
   ],
   "source": [
    "nonstop.head(10)"
   ]
  },
  {
   "cell_type": "code",
   "execution_count": 32,
   "metadata": {},
   "outputs": [],
   "source": [
    "#export to csv\n",
    "nonstop.to_csv(dirid + docid + \"nostops.csv\",index=True)"
   ]
  }
 ],
 "metadata": {
  "interpreter": {
   "hash": "767d51c1340bd893661ea55ea3124f6de3c7a262a8b4abca0554b478b1e2ff90"
  },
  "kernelspec": {
   "display_name": "Python 2.7.16 64-bit",
   "language": "python",
   "name": "python3"
  },
  "language_info": {
   "codemirror_mode": {
    "name": "ipython",
    "version": 3
   },
   "file_extension": ".py",
   "mimetype": "text/x-python",
   "name": "python",
   "nbconvert_exporter": "python",
   "pygments_lexer": "ipython3",
   "version": "3.8.5"
  },
  "orig_nbformat": 4
 },
 "nbformat": 4,
 "nbformat_minor": 2
}
