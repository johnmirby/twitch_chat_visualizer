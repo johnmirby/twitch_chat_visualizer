{
 "cells": [
  {
   "cell_type": "code",
   "execution_count": 34,
   "metadata": {},
   "outputs": [],
   "source": [
    "# lil notebook to remove stopwords from the twitch chatlogs\n",
    "import pandas as pd\n",
    "import numpy as np\n",
    "import nltk\n",
    "from nltk.corpus import stopwords\n",
    "stop = stopwords.words('english')\n",
    "# need to remove different case stopwords\n",
    "upperstop = list(map(lambda x: x.upper(), stop))\n",
    "capstop = list(map(lambda x: x.capitalize(), stop))\n",
    "stop = stop + upperstop + capstop\n",
    "\n",
    "#read in csv from TwitchChatInfoGet.ipynb\n",
    "dirid=\"/Users/admin/Desktop/Thesis/hasan_logs/nicki/day2/\"\n",
    "docid=\"v1150496968\"\n",
    "csvname=dirid + docid + \".csv\"\n",
    "\n",
    "df = pd.read_csv(csvname)\n",
    "df.index.names=['msg_num']\n",
    "df=df.set_index('timecode')"
   ]
  },
  {
   "cell_type": "code",
   "execution_count": 35,
   "metadata": {},
   "outputs": [],
   "source": [
    "df = df[df['msg_token'].notnull()]"
   ]
  },
  {
   "cell_type": "code",
   "execution_count": 36,
   "metadata": {},
   "outputs": [],
   "source": [
    "nonstop = df\n",
    "#remove nltk stopwords\n",
    "nonstop['msg_token'] = nonstop['msg_token'].apply(lambda x: ' '.join([word for word in x.split() if word not in (stop)]))\n",
    "#replace empty token rows with NaNs\n",
    "nonstop['msg_token'].replace('', np.nan, inplace=True)\n",
    "#remove NaN rows\n",
    "nonstop.dropna(subset=['msg_token'], inplace=True)"
   ]
  },
  {
   "cell_type": "code",
   "execution_count": 37,
   "metadata": {},
   "outputs": [
    {
     "name": "stdout",
     "output_type": "stream",
     "text": [
      "KEKW            26562\n",
      "@HasanAbi       13721\n",
      "OMEGALUL         9864\n",
      "hasL             7645\n",
      "PepeLa           7407\n",
      "GIGAHAS          7122\n",
      "LETSGO           6733\n",
      "YEP              5972\n",
      "@hasanabi        4805\n",
      "monkaW           3943\n",
      "KEKWait          3462\n",
      "PogU             3259\n",
      "like             3026\n",
      "HOGGERS          2893\n",
      "PogO             2881\n",
      "Clap             2726\n",
      "Sadge            2561\n",
      "COPIUM           2556\n",
      "DANKIES          2520\n",
      "LUL              2413\n",
      "people           2338\n",
      "HYPERCLAP        2183\n",
      "FUCK             2102\n",
      "HYPERNODDERS     2073\n",
      "NODDERS          2011\n",
      "get              1734\n",
      "KKonaW           1733\n",
      "shit             1704\n",
      "hasChud          1686\n",
      "EZ               1671\n",
      "D:               1642\n",
      "AlienPls         1601\n",
      "subscribed       1536\n",
      "BatChest         1532\n",
      "gachiHYPER       1522\n",
      "<3               1512\n",
      "lol              1481\n",
      "Hmm              1477\n",
      "peepoBaba        1455\n",
      "LULW             1312\n",
      "good             1296\n",
      "TOP              1239\n",
      "chat             1234\n",
      "think            1199\n",
      "would            1153\n",
      "black            1152\n",
      "GO               1151\n",
      "fucking          1151\n",
      "modCheck         1097\n",
      "TRUE             1092\n",
      "Name: msg_token, dtype: int64\n"
     ]
    }
   ],
   "source": [
    "# nonstop.head(10)\n",
    "\n",
    "# get most freq terms\n",
    "count = nonstop['msg_token'].value_counts()\n",
    "print(count.head(50))"
   ]
  },
  {
   "cell_type": "code",
   "execution_count": 33,
   "metadata": {},
   "outputs": [],
   "source": [
    "#export to csv\n",
    "nonstop.to_csv(dirid + docid + \"nostops.csv\",index=True)"
   ]
  }
 ],
 "metadata": {
  "interpreter": {
   "hash": "767d51c1340bd893661ea55ea3124f6de3c7a262a8b4abca0554b478b1e2ff90"
  },
  "kernelspec": {
   "display_name": "Python 2.7.16 64-bit",
   "language": "python",
   "name": "python3"
  },
  "language_info": {
   "codemirror_mode": {
    "name": "ipython",
    "version": 3
   },
   "file_extension": ".py",
   "mimetype": "text/x-python",
   "name": "python",
   "nbconvert_exporter": "python",
   "pygments_lexer": "ipython3",
   "version": "3.8.5"
  },
  "orig_nbformat": 4
 },
 "nbformat": 4,
 "nbformat_minor": 2
}
