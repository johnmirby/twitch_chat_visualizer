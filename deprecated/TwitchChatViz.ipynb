{
 "cells": [
  {
   "cell_type": "code",
   "execution_count": 3,
   "metadata": {},
   "outputs": [],
   "source": [
    "# Visulaize Twitch chat n-gram frequency over time\n",
    "import pandas as pd\n",
    "import matplotlib.pyplot as plt\n",
    "#plotly express? seaborn?\n",
    "\n",
    "dirid=\"/Users/admin/Desktop/Thesis/hasan_logs/nicki/day1/\"\n",
    "docid=\"v1148677141\"\n",
    "csvname=dirid + docid + \".csv\"\n",
    "\n",
    "df = pd.read_csv(csvname)\n",
    "# df.head(10)"
   ]
  },
  {
   "cell_type": "code",
   "execution_count": 1,
   "metadata": {},
   "outputs": [],
   "source": [
    "# Visulaize Twitch chat n-gram frequency over time\n",
    "import re\n",
    "import pandas as pd\n",
    "import numpy as np\n",
    "import matplotlib.pyplot as plt\n",
    "import seaborn as sns\n",
    "sns.set_theme()\n",
    "#plotly express? seaborn?\n",
    "\n",
    "dirid=\"/Users/admin/Desktop/Thesis/hasan_logs/nicki/day2/\"\n",
    "docid=\"v1150496968\"\n",
    "csvname=dirid + docid + \".csv\"\n",
    "\n",
    "df = pd.read_csv(csvname)\n",
    "# df.head(10)"
   ]
  },
  {
   "cell_type": "code",
   "execution_count": 2,
   "metadata": {},
   "outputs": [
    {
     "data": {
      "text/html": [
       "<div>\n",
       "<style scoped>\n",
       "    .dataframe tbody tr th:only-of-type {\n",
       "        vertical-align: middle;\n",
       "    }\n",
       "\n",
       "    .dataframe tbody tr th {\n",
       "        vertical-align: top;\n",
       "    }\n",
       "\n",
       "    .dataframe thead th {\n",
       "        text-align: right;\n",
       "    }\n",
       "</style>\n",
       "<table border=\"1\" class=\"dataframe\">\n",
       "  <thead>\n",
       "    <tr style=\"text-align: right;\">\n",
       "      <th></th>\n",
       "      <th>timecode</th>\n",
       "      <th>username</th>\n",
       "      <th>message</th>\n",
       "      <th>msg_token</th>\n",
       "    </tr>\n",
       "  </thead>\n",
       "  <tbody>\n",
       "    <tr>\n",
       "      <th>0</th>\n",
       "      <td>0:00:00:023</td>\n",
       "      <td>HCTR17</td>\n",
       "      <td>peepoHey</td>\n",
       "      <td>peepoHey</td>\n",
       "    </tr>\n",
       "    <tr>\n",
       "      <th>1</th>\n",
       "      <td>0:00:02:050</td>\n",
       "      <td>HCTR17</td>\n",
       "      <td>!cock</td>\n",
       "      <td>!cock</td>\n",
       "    </tr>\n",
       "    <tr>\n",
       "      <th>2</th>\n",
       "      <td>0:00:02:118</td>\n",
       "      <td>yoDeRock</td>\n",
       "      <td>PogU</td>\n",
       "      <td>PogU</td>\n",
       "    </tr>\n",
       "    <tr>\n",
       "      <th>3</th>\n",
       "      <td>0:00:02:134</td>\n",
       "      <td>bythonbicks</td>\n",
       "      <td>PogU live</td>\n",
       "      <td>PogU</td>\n",
       "    </tr>\n",
       "    <tr>\n",
       "      <th>4</th>\n",
       "      <td>0:00:02:134</td>\n",
       "      <td>bythonbicks</td>\n",
       "      <td>PogU live</td>\n",
       "      <td>live</td>\n",
       "    </tr>\n",
       "    <tr>\n",
       "      <th>5</th>\n",
       "      <td>0:00:02:170</td>\n",
       "      <td>Shorecross</td>\n",
       "      <td>OMG</td>\n",
       "      <td>OMG</td>\n",
       "    </tr>\n",
       "    <tr>\n",
       "      <th>6</th>\n",
       "      <td>0:00:02:218</td>\n",
       "      <td>Fossabot</td>\n",
       "      <td>@HCTR17 rolls 10/12 GTTC</td>\n",
       "      <td>@HCTR17</td>\n",
       "    </tr>\n",
       "    <tr>\n",
       "      <th>7</th>\n",
       "      <td>0:00:02:218</td>\n",
       "      <td>Fossabot</td>\n",
       "      <td>@HCTR17 rolls 10/12 GTTC</td>\n",
       "      <td>rolls</td>\n",
       "    </tr>\n",
       "    <tr>\n",
       "      <th>8</th>\n",
       "      <td>0:00:02:218</td>\n",
       "      <td>Fossabot</td>\n",
       "      <td>@HCTR17 rolls 10/12 GTTC</td>\n",
       "      <td>10/12</td>\n",
       "    </tr>\n",
       "    <tr>\n",
       "      <th>9</th>\n",
       "      <td>0:00:02:218</td>\n",
       "      <td>Fossabot</td>\n",
       "      <td>@HCTR17 rolls 10/12 GTTC</td>\n",
       "      <td>GTTC</td>\n",
       "    </tr>\n",
       "  </tbody>\n",
       "</table>\n",
       "</div>"
      ],
      "text/plain": [
       "      timecode     username                   message msg_token\n",
       "0  0:00:00:023       HCTR17                  peepoHey  peepoHey\n",
       "1  0:00:02:050       HCTR17                     !cock     !cock\n",
       "2  0:00:02:118     yoDeRock                      PogU      PogU\n",
       "3  0:00:02:134  bythonbicks                 PogU live      PogU\n",
       "4  0:00:02:134  bythonbicks                 PogU live      live\n",
       "5  0:00:02:170   Shorecross                       OMG       OMG\n",
       "6  0:00:02:218     Fossabot  @HCTR17 rolls 10/12 GTTC   @HCTR17\n",
       "7  0:00:02:218     Fossabot  @HCTR17 rolls 10/12 GTTC     rolls\n",
       "8  0:00:02:218     Fossabot  @HCTR17 rolls 10/12 GTTC     10/12\n",
       "9  0:00:02:218     Fossabot  @HCTR17 rolls 10/12 GTTC      GTTC"
      ]
     },
     "execution_count": 2,
     "metadata": {},
     "output_type": "execute_result"
    }
   ],
   "source": [
    "df.head(10)"
   ]
  },
  {
   "cell_type": "code",
   "execution_count": 8,
   "metadata": {},
   "outputs": [
    {
     "name": "stdout",
     "output_type": "stream",
     "text": [
      "Unique usernames: 20,878\n"
     ]
    }
   ],
   "source": [
    "user_freq = df.groupby([\"username\"]).count()\n",
    "print(\"Unique usernames: {:,}\".format(user_freq.shape[0]))"
   ]
  }
 ],
 "metadata": {
  "interpreter": {
   "hash": "651c3b7b3f466eb030aa737f279c846be4db9cba49a2f229278cab5e41121ed5"
  },
  "kernelspec": {
   "display_name": "Python 3.8.5 64-bit ('base': conda)",
   "name": "python3"
  },
  "language_info": {
   "codemirror_mode": {
    "name": "ipython",
    "version": 3
   },
   "file_extension": ".py",
   "mimetype": "text/x-python",
   "name": "python",
   "nbconvert_exporter": "python",
   "pygments_lexer": "ipython3",
   "version": "3.8.5"
  },
  "orig_nbformat": 4
 },
 "nbformat": 4,
 "nbformat_minor": 2
}
