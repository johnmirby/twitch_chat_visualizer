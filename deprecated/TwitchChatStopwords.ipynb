{
 "cells": [
  {
   "cell_type": "code",
   "execution_count": 4,
   "metadata": {},
   "outputs": [],
   "source": [
    "# lil notebook to remove stopwords from the twitch chatlogs\n",
    "import pandas as pd\n",
    "import numpy as np\n",
    "import nltk\n",
    "from nltk.corpus import stopwords\n",
    "stop = stopwords.words('english')\n",
    "# need to remove different case stopwords\n",
    "upperstop = list(map(lambda x: x.upper(), stop))\n",
    "capstop = list(map(lambda x: x.capitalize(), stop))\n",
    "stop = stop + upperstop + capstop\n",
    "\n",
    "#read in csv from TwitchChatInfoGet.ipynb\n",
    "dirid=\"/Users/admin/Desktop/Thesis/hasan_logs/nicki/day2/\"\n",
    "docid=\"v1150496968\"\n",
    "csvname=dirid + docid + \".csv\"\n",
    "\n",
    "df = pd.read_csv(csvname)\n",
    "df.index.names=['msg_num']\n",
    "df=df.set_index('timecode')"
   ]
  },
  {
   "cell_type": "code",
   "execution_count": 5,
   "metadata": {},
   "outputs": [],
   "source": [
    "df = df[df['msg_token'].notnull()]"
   ]
  },
  {
   "cell_type": "code",
   "execution_count": 6,
   "metadata": {},
   "outputs": [],
   "source": [
    "nonstop = df\n",
    "#remove nltk stopwords\n",
    "nonstop['msg_token'] = nonstop['msg_token'].apply(lambda x: ' '.join([word for word in x.split() if word not in (stop)]))\n",
    "#replace empty token rows with NaNs\n",
    "nonstop['msg_token'].replace('', np.nan, inplace=True)\n",
    "#remove NaN rows\n",
    "nonstop.dropna(subset=['msg_token'], inplace=True)"
   ]
  },
  {
   "cell_type": "code",
   "execution_count": 9,
   "metadata": {},
   "outputs": [
    {
     "name": "stdout",
     "output_type": "stream",
     "text": [
      "KEKW         26562\n",
      "@HasanAbi    13721\n",
      "OMEGALUL      9864\n",
      "hasL          7645\n",
      "PepeLa        7407\n",
      "GIGAHAS       7122\n",
      "LETSGO        6733\n",
      "YEP           5972\n",
      "@hasanabi     4805\n",
      "monkaW        3943\n",
      "KEKWait       3462\n",
      "PogU          3259\n",
      "like          3026\n",
      "HOGGERS       2893\n",
      "PogO          2881\n",
      "Name: msg_token, dtype: int64\n"
     ]
    }
   ],
   "source": [
    "# nonstop.head(10)\n",
    "\n",
    "# get most freq terms\n",
    "count = nonstop['msg_token'].value_counts()\n",
    "print(count.head(15))"
   ]
  },
  {
   "cell_type": "code",
   "execution_count": 10,
   "metadata": {},
   "outputs": [
    {
     "data": {
      "text/html": [
       "<div>\n",
       "<style scoped>\n",
       "    .dataframe tbody tr th:only-of-type {\n",
       "        vertical-align: middle;\n",
       "    }\n",
       "\n",
       "    .dataframe tbody tr th {\n",
       "        vertical-align: top;\n",
       "    }\n",
       "\n",
       "    .dataframe thead th {\n",
       "        text-align: right;\n",
       "    }\n",
       "</style>\n",
       "<table border=\"1\" class=\"dataframe\">\n",
       "  <thead>\n",
       "    <tr style=\"text-align: right;\">\n",
       "      <th></th>\n",
       "      <th>username</th>\n",
       "      <th>message</th>\n",
       "      <th>msg_token</th>\n",
       "    </tr>\n",
       "    <tr>\n",
       "      <th>timecode</th>\n",
       "      <th></th>\n",
       "      <th></th>\n",
       "      <th></th>\n",
       "    </tr>\n",
       "  </thead>\n",
       "  <tbody>\n",
       "    <tr>\n",
       "      <th>0:00:00:023</th>\n",
       "      <td>HCTR17</td>\n",
       "      <td>peepoHey</td>\n",
       "      <td>peepoHey</td>\n",
       "    </tr>\n",
       "    <tr>\n",
       "      <th>0:00:02:050</th>\n",
       "      <td>HCTR17</td>\n",
       "      <td>!cock</td>\n",
       "      <td>!cock</td>\n",
       "    </tr>\n",
       "    <tr>\n",
       "      <th>0:00:02:118</th>\n",
       "      <td>yoDeRock</td>\n",
       "      <td>PogU</td>\n",
       "      <td>PogU</td>\n",
       "    </tr>\n",
       "    <tr>\n",
       "      <th>0:00:02:134</th>\n",
       "      <td>bythonbicks</td>\n",
       "      <td>PogU live</td>\n",
       "      <td>PogU</td>\n",
       "    </tr>\n",
       "    <tr>\n",
       "      <th>0:00:02:134</th>\n",
       "      <td>bythonbicks</td>\n",
       "      <td>PogU live</td>\n",
       "      <td>live</td>\n",
       "    </tr>\n",
       "    <tr>\n",
       "      <th>0:00:02:170</th>\n",
       "      <td>Shorecross</td>\n",
       "      <td>OMG</td>\n",
       "      <td>OMG</td>\n",
       "    </tr>\n",
       "    <tr>\n",
       "      <th>0:00:02:218</th>\n",
       "      <td>Fossabot</td>\n",
       "      <td>@HCTR17 rolls 10/12 GTTC</td>\n",
       "      <td>@HCTR17</td>\n",
       "    </tr>\n",
       "    <tr>\n",
       "      <th>0:00:02:218</th>\n",
       "      <td>Fossabot</td>\n",
       "      <td>@HCTR17 rolls 10/12 GTTC</td>\n",
       "      <td>rolls</td>\n",
       "    </tr>\n",
       "    <tr>\n",
       "      <th>0:00:02:218</th>\n",
       "      <td>Fossabot</td>\n",
       "      <td>@HCTR17 rolls 10/12 GTTC</td>\n",
       "      <td>10/12</td>\n",
       "    </tr>\n",
       "    <tr>\n",
       "      <th>0:00:02:218</th>\n",
       "      <td>Fossabot</td>\n",
       "      <td>@HCTR17 rolls 10/12 GTTC</td>\n",
       "      <td>GTTC</td>\n",
       "    </tr>\n",
       "  </tbody>\n",
       "</table>\n",
       "</div>"
      ],
      "text/plain": [
       "                username                   message msg_token\n",
       "timecode                                                    \n",
       "0:00:00:023       HCTR17                  peepoHey  peepoHey\n",
       "0:00:02:050       HCTR17                     !cock     !cock\n",
       "0:00:02:118     yoDeRock                      PogU      PogU\n",
       "0:00:02:134  bythonbicks                 PogU live      PogU\n",
       "0:00:02:134  bythonbicks                 PogU live      live\n",
       "0:00:02:170   Shorecross                       OMG       OMG\n",
       "0:00:02:218     Fossabot  @HCTR17 rolls 10/12 GTTC   @HCTR17\n",
       "0:00:02:218     Fossabot  @HCTR17 rolls 10/12 GTTC     rolls\n",
       "0:00:02:218     Fossabot  @HCTR17 rolls 10/12 GTTC     10/12\n",
       "0:00:02:218     Fossabot  @HCTR17 rolls 10/12 GTTC      GTTC"
      ]
     },
     "execution_count": 10,
     "metadata": {},
     "output_type": "execute_result"
    }
   ],
   "source": [
    "nonstop.head(10)"
   ]
  },
  {
   "cell_type": "code",
   "execution_count": 8,
   "metadata": {},
   "outputs": [],
   "source": [
    "#export to csv\n",
    "nonstop.to_csv(dirid + docid + \"nostops.csv\",index=True)"
   ]
  }
 ],
 "metadata": {
  "interpreter": {
   "hash": "767d51c1340bd893661ea55ea3124f6de3c7a262a8b4abca0554b478b1e2ff90"
  },
  "kernelspec": {
   "display_name": "Python 2.7.16 64-bit",
   "language": "python",
   "name": "python3"
  },
  "language_info": {
   "codemirror_mode": {
    "name": "ipython",
    "version": 3
   },
   "file_extension": ".py",
   "mimetype": "text/x-python",
   "name": "python",
   "nbconvert_exporter": "python",
   "pygments_lexer": "ipython3",
   "version": "3.8.5"
  },
  "orig_nbformat": 4
 },
 "nbformat": 4,
 "nbformat_minor": 2
}
