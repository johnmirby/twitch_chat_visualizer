{
 "cells": [
  {
   "cell_type": "code",
   "execution_count": 35,
   "metadata": {},
   "outputs": [],
   "source": [
    "# Made to get info from Twitch chat log\n",
    "# Run on csv from TwitchChatParser\n",
    "import pandas as pd\n",
    "\n",
    "dirid=\"/Users/admin/Desktop/Thesis/hasan_logs/nicki/day1/\"\n",
    "docid=\"v1148677141\"\n",
    "csvname=dirid + docid + \".csv\"\n",
    "\n",
    "df = pd.read_csv(csvname)\n",
    "df.index.names=['msg_num']\n",
    "\n",
    "# df.head(10)"
   ]
  },
  {
   "cell_type": "code",
   "execution_count": 36,
   "metadata": {},
   "outputs": [],
   "source": [
    "#arrange by time\n",
    "df=df.set_index('timecode')"
   ]
  },
  {
   "cell_type": "code",
   "execution_count": 37,
   "metadata": {},
   "outputs": [],
   "source": [
    "#tokenize df into subframe\n",
    "dft=df['message'].str.split(r\"[\\s',-]+\", expand=True).stack()\\\n",
    "    .to_frame().rename(columns={0:'msg_token'})\n",
    "\n",
    "dft.index.names = ['timecode','num_in_msg']\n",
    "\n",
    "# dft.head(10)"
   ]
  },
  {
   "cell_type": "code",
   "execution_count": 38,
   "metadata": {},
   "outputs": [],
   "source": [
    "#merge dfs\n",
    "dft=dft.merge(df,how='inner',on='timecode')\n",
    "\n",
    "# dft.head(10)"
   ]
  },
  {
   "cell_type": "code",
   "execution_count": 39,
   "metadata": {},
   "outputs": [
    {
     "data": {
      "text/html": [
       "<div>\n",
       "<style scoped>\n",
       "    .dataframe tbody tr th:only-of-type {\n",
       "        vertical-align: middle;\n",
       "    }\n",
       "\n",
       "    .dataframe tbody tr th {\n",
       "        vertical-align: top;\n",
       "    }\n",
       "\n",
       "    .dataframe thead th {\n",
       "        text-align: right;\n",
       "    }\n",
       "</style>\n",
       "<table border=\"1\" class=\"dataframe\">\n",
       "  <thead>\n",
       "    <tr style=\"text-align: right;\">\n",
       "      <th></th>\n",
       "      <th>username</th>\n",
       "      <th>message</th>\n",
       "      <th>msg_token</th>\n",
       "    </tr>\n",
       "    <tr>\n",
       "      <th>timecode</th>\n",
       "      <th></th>\n",
       "      <th></th>\n",
       "      <th></th>\n",
       "    </tr>\n",
       "  </thead>\n",
       "  <tbody>\n",
       "    <tr>\n",
       "      <th>0:00:05:744</th>\n",
       "      <td>assaultkifIe47</td>\n",
       "      <td>BAITER WeirdDude</td>\n",
       "      <td>BAITER</td>\n",
       "    </tr>\n",
       "    <tr>\n",
       "      <th>0:00:05:744</th>\n",
       "      <td>assaultkifIe47</td>\n",
       "      <td>BAITER WeirdDude</td>\n",
       "      <td>WeirdDude</td>\n",
       "    </tr>\n",
       "    <tr>\n",
       "      <th>0:00:05:876</th>\n",
       "      <td>Thunderstrum</td>\n",
       "      <td>PogU</td>\n",
       "      <td>PogU</td>\n",
       "    </tr>\n",
       "    <tr>\n",
       "      <th>0:00:05:917</th>\n",
       "      <td>keepitreal200</td>\n",
       "      <td>PogU</td>\n",
       "      <td>PogU</td>\n",
       "    </tr>\n",
       "    <tr>\n",
       "      <th>0:00:06:320</th>\n",
       "      <td>MatthausGames</td>\n",
       "      <td>PogU</td>\n",
       "      <td>PogU</td>\n",
       "    </tr>\n",
       "    <tr>\n",
       "      <th>0:00:06:360</th>\n",
       "      <td>smol_wolfboi</td>\n",
       "      <td>cock is nice oliver i agree</td>\n",
       "      <td>cock</td>\n",
       "    </tr>\n",
       "    <tr>\n",
       "      <th>0:00:06:360</th>\n",
       "      <td>smol_wolfboi</td>\n",
       "      <td>cock is nice oliver i agree</td>\n",
       "      <td>is</td>\n",
       "    </tr>\n",
       "    <tr>\n",
       "      <th>0:00:06:360</th>\n",
       "      <td>smol_wolfboi</td>\n",
       "      <td>cock is nice oliver i agree</td>\n",
       "      <td>nice</td>\n",
       "    </tr>\n",
       "    <tr>\n",
       "      <th>0:00:06:360</th>\n",
       "      <td>smol_wolfboi</td>\n",
       "      <td>cock is nice oliver i agree</td>\n",
       "      <td>oliver</td>\n",
       "    </tr>\n",
       "    <tr>\n",
       "      <th>0:00:06:360</th>\n",
       "      <td>smol_wolfboi</td>\n",
       "      <td>cock is nice oliver i agree</td>\n",
       "      <td>i</td>\n",
       "    </tr>\n",
       "  </tbody>\n",
       "</table>\n",
       "</div>"
      ],
      "text/plain": [
       "                   username                      message  msg_token\n",
       "timecode                                                           \n",
       "0:00:05:744  assaultkifIe47             BAITER WeirdDude     BAITER\n",
       "0:00:05:744  assaultkifIe47             BAITER WeirdDude  WeirdDude\n",
       "0:00:05:876    Thunderstrum                         PogU       PogU\n",
       "0:00:05:917   keepitreal200                         PogU       PogU\n",
       "0:00:06:320   MatthausGames                         PogU       PogU\n",
       "0:00:06:360    smol_wolfboi  cock is nice oliver i agree       cock\n",
       "0:00:06:360    smol_wolfboi  cock is nice oliver i agree         is\n",
       "0:00:06:360    smol_wolfboi  cock is nice oliver i agree       nice\n",
       "0:00:06:360    smol_wolfboi  cock is nice oliver i agree     oliver\n",
       "0:00:06:360    smol_wolfboi  cock is nice oliver i agree          i"
      ]
     },
     "execution_count": 39,
     "metadata": {},
     "output_type": "execute_result"
    }
   ],
   "source": [
    "#rearrange columns\n",
    "dft=dft[[\"username\",\"message\",\"msg_token\"]]\n",
    "# dft.head(10)"
   ]
  },
  {
   "cell_type": "code",
   "execution_count": 40,
   "metadata": {},
   "outputs": [
    {
     "name": "stdout",
     "output_type": "stream",
     "text": [
      "KEKW         22050\n",
      "the          17270\n",
      "a            12401\n",
      "@HasanAbi    11747\n",
      "is           10622\n",
      "to           10352\n",
      "I             9413\n",
      "you           8316\n",
      "OMEGALUL      8273\n",
      "it            6728\n",
      "Name: msg_token, dtype: int64\n"
     ]
    }
   ],
   "source": [
    "#get most freq terms\n",
    "count = dft['msg_token'].value_counts()\n",
    "print(count.head(10))"
   ]
  },
  {
   "cell_type": "code",
   "execution_count": 41,
   "metadata": {},
   "outputs": [],
   "source": [
    "#save to csv \n",
    "dft.to_csv(dirid + docid + \".csv\",index=False)"
   ]
  }
 ],
 "metadata": {
  "interpreter": {
   "hash": "651c3b7b3f466eb030aa737f279c846be4db9cba49a2f229278cab5e41121ed5"
  },
  "kernelspec": {
   "display_name": "Python 3.8.5 64-bit ('base': conda)",
   "name": "python3"
  },
  "language_info": {
   "codemirror_mode": {
    "name": "ipython",
    "version": 3
   },
   "file_extension": ".py",
   "mimetype": "text/x-python",
   "name": "python",
   "nbconvert_exporter": "python",
   "pygments_lexer": "ipython3",
   "version": "3.8.5"
  },
  "orig_nbformat": 4
 },
 "nbformat": 4,
 "nbformat_minor": 2
}
