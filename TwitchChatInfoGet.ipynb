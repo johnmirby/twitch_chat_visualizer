{
 "cells": [
  {
   "cell_type": "code",
   "execution_count": 1,
   "metadata": {},
   "outputs": [],
   "source": [
    "# Made to get info from Twitch chat log\n",
    "# Run on csv from TwitchChatParser\n",
    "import pandas as pd\n",
    "\n",
    "dirid=\"/Users/admin/Desktop/Thesis/hasan_logs/nicki/day2/\"\n",
    "docid=\"v1150496968\"\n",
    "csvname=dirid + docid + \".csv\"\n",
    "\n",
    "df = pd.read_csv(csvname)\n",
    "df.index.names=['msg_num']\n",
    "\n",
    "# df.head(10)"
   ]
  },
  {
   "cell_type": "code",
   "execution_count": 2,
   "metadata": {},
   "outputs": [],
   "source": [
    "#arrange by time\n",
    "df=df.set_index('timecode')"
   ]
  },
  {
   "cell_type": "code",
   "execution_count": 3,
   "metadata": {},
   "outputs": [],
   "source": [
    "#tokenize df into subframe\n",
    "dft=df['message'].str.split(r\"[\\s',]+\", expand=True).stack()\\\n",
    "    .to_frame().rename(columns={0:'msg_token'})\n",
    "\n",
    "dft.index.names = ['timecode','num_in_msg']\n",
    "\n",
    "# dft.head(10)"
   ]
  },
  {
   "cell_type": "code",
   "execution_count": 4,
   "metadata": {},
   "outputs": [],
   "source": [
    "#merge dfs\n",
    "dft=dft.merge(df,how='inner',on='timecode')\n",
    "\n",
    "# dft.head(10)"
   ]
  },
  {
   "cell_type": "code",
   "execution_count": 5,
   "metadata": {},
   "outputs": [],
   "source": [
    "#rearrange columns\n",
    "dft=dft[[\"username\",\"message\",\"msg_token\"]]\n",
    "# dft.head(30)"
   ]
  },
  {
   "cell_type": "code",
   "execution_count": 6,
   "metadata": {},
   "outputs": [],
   "source": [
    "# get most freq terms\n",
    "# count = dft['msg_token'].value_counts()\n",
    "# print(count.head(50))"
   ]
  },
  {
   "cell_type": "code",
   "execution_count": 7,
   "metadata": {},
   "outputs": [],
   "source": [
    "#save to csv \n",
    "dft.to_csv(dirid + docid + \".csv\",index=True)"
   ]
  }
 ],
 "metadata": {
  "interpreter": {
   "hash": "651c3b7b3f466eb030aa737f279c846be4db9cba49a2f229278cab5e41121ed5"
  },
  "kernelspec": {
   "display_name": "Python 3.8.5 64-bit ('base': conda)",
   "name": "python3"
  },
  "language_info": {
   "codemirror_mode": {
    "name": "ipython",
    "version": 3
   },
   "file_extension": ".py",
   "mimetype": "text/x-python",
   "name": "python",
   "nbconvert_exporter": "python",
   "pygments_lexer": "ipython3",
   "version": "3.8.5"
  },
  "orig_nbformat": 4
 },
 "nbformat": 4,
 "nbformat_minor": 2
}
