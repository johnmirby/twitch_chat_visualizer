{
 "cells": [
  {
   "cell_type": "code",
   "execution_count": 1,
   "metadata": {},
   "outputs": [],
   "source": [
    "#from parser\n",
    "import pandas as pd\n",
    "\n",
    "# Manually change file ext from .irc to .txt before use\n",
    "dirid=\"/Users/admin/Desktop/Thesis/hasan_logs/nicki/day2/\"\n",
    "docid =\"v1150496968\"\n",
    "logname=dirid + docid + \".txt\"\n",
    "\n",
    "raw_log=pd.read_csv(logname,header=None,delimiter='\\n',error_bad_lines=False,encoding='utf-8')\n",
    "\n",
    "raw_log['raw_str']=raw_log[0]\n",
    "raw_log1=raw_log['raw_str'].str.split(']', n = 1, expand = True)\n",
    "raw_log2=raw_log1[1].str.split('>', n = 1, expand = True)\n",
    "parsed_log=pd.concat([raw_log1,raw_log2], axis=1, join='inner')\n",
    "parsed_log.columns=['timecode','raw','username','message']\n",
    "parsed_log=parsed_log.drop(columns='raw')\n",
    "parsed_log['username']=parsed_log['username'].map(lambda x: x.lstrip(' <'))\n",
    "parsed_log['timecode']=parsed_log['timecode'].map(lambda x: x.lstrip(' ['))\n",
    "parsed_log['timecode']=parsed_log['timecode'].replace({',':':'}, regex=True)\n",
    "parsed_log['message']=parsed_log['message'].map(lambda x: x.lstrip(' '))\n",
    "parsed_log.index.names=['msg_num']\n",
    "\n",
    "#export initial parsed csv\n",
    "parsed_log.to_csv(dirid + docid + \"_initialparsed.csv\",index=False)"
   ]
  },
  {
   "cell_type": "code",
   "execution_count": 2,
   "metadata": {},
   "outputs": [
    {
     "name": "stdout",
     "output_type": "stream",
     "text": [
      "KEKW          13007\n",
      "OMEGALUL       4296\n",
      "YEP            3650\n",
      "PepeLa         2893\n",
      "monkaW         2058\n",
      "KEKWait        1521\n",
      "Sadge          1064\n",
      "LETSGO         1063\n",
      "D:             1036\n",
      "PogU           1018\n",
      "hasL            874\n",
      "GIGAHAS         755\n",
      "HOGGERS         690\n",
      "gachiHYPER      679\n",
      "Hmm             663\n",
      "NODDERS         649\n",
      "LUL             600\n",
      "COPIUM          525\n",
      "unPOGGERS       518\n",
      "LULW            495\n",
      "Name: message, dtype: int64\n"
     ]
    }
   ],
   "source": [
    "#get most common messages\n",
    "count = parsed_log['message'].value_counts()\n",
    "print(count.head(20))"
   ]
  },
  {
   "cell_type": "code",
   "execution_count": 3,
   "metadata": {},
   "outputs": [
    {
     "name": "stdout",
     "output_type": "stream",
     "text": [
      "<bound method DataFrame.count of              timecode         username            message\n",
      "msg_num                                                  \n",
      "0         0:00:00:023           HCTR17           peepoHey\n",
      "1         0:00:02:050           HCTR17              !cock\n",
      "2         0:00:02:118         yoDeRock               PogU\n",
      "3         0:00:02:134      bythonbicks          PogU live\n",
      "4         0:00:02:170       Shorecross                OMG\n",
      "...               ...              ...                ...\n",
      "202258   08:32:49:145         chemmy96              Sadge\n",
      "202259   08:32:49:629  thadrunkinninja  <message deleted>\n",
      "202260   08:32:49:808         brad2244          hasL hasL\n",
      "202261   08:32:50:223       FusedAtoms             COPIUM\n",
      "202262   08:32:51:685         JustGery  BibleThump DONNIE\n",
      "\n",
      "[202263 rows x 3 columns]>\n"
     ]
    }
   ],
   "source": [
    "total_rows = parsed_log.count\n",
    "print(total_rows)"
   ]
  },
  {
   "cell_type": "code",
   "execution_count": 4,
   "metadata": {},
   "outputs": [],
   "source": [
    "# from infoget\n",
    "csvname=dirid + docid + \"_initialparsed.csv\"\n",
    "\n",
    "df = pd.read_csv(csvname)\n",
    "df.index.names=['msg_num']\n",
    "\n",
    "#organize by time\n",
    "df=df.set_index('timecode')"
   ]
  },
  {
   "cell_type": "code",
   "execution_count": 5,
   "metadata": {},
   "outputs": [
    {
     "data": {
      "text/html": [
       "<div>\n",
       "<style scoped>\n",
       "    .dataframe tbody tr th:only-of-type {\n",
       "        vertical-align: middle;\n",
       "    }\n",
       "\n",
       "    .dataframe tbody tr th {\n",
       "        vertical-align: top;\n",
       "    }\n",
       "\n",
       "    .dataframe thead th {\n",
       "        text-align: right;\n",
       "    }\n",
       "</style>\n",
       "<table border=\"1\" class=\"dataframe\">\n",
       "  <thead>\n",
       "    <tr style=\"text-align: right;\">\n",
       "      <th></th>\n",
       "      <th>username</th>\n",
       "      <th>message</th>\n",
       "    </tr>\n",
       "    <tr>\n",
       "      <th>timecode</th>\n",
       "      <th></th>\n",
       "      <th></th>\n",
       "    </tr>\n",
       "  </thead>\n",
       "  <tbody>\n",
       "    <tr>\n",
       "      <th>0:00:00:023</th>\n",
       "      <td>HCTR17</td>\n",
       "      <td>peepoHey</td>\n",
       "    </tr>\n",
       "    <tr>\n",
       "      <th>0:00:02:050</th>\n",
       "      <td>HCTR17</td>\n",
       "      <td>!cock</td>\n",
       "    </tr>\n",
       "    <tr>\n",
       "      <th>0:00:02:118</th>\n",
       "      <td>yoDeRock</td>\n",
       "      <td>PogU</td>\n",
       "    </tr>\n",
       "    <tr>\n",
       "      <th>0:00:02:134</th>\n",
       "      <td>bythonbicks</td>\n",
       "      <td>PogU live</td>\n",
       "    </tr>\n",
       "    <tr>\n",
       "      <th>0:00:02:170</th>\n",
       "      <td>Shorecross</td>\n",
       "      <td>OMG</td>\n",
       "    </tr>\n",
       "    <tr>\n",
       "      <th>0:00:02:740</th>\n",
       "      <td>JohnAtoms</td>\n",
       "      <td>DANKHACKERMANS cusst</td>\n",
       "    </tr>\n",
       "    <tr>\n",
       "      <th>0:00:02:899</th>\n",
       "      <td>SarahLawl</td>\n",
       "      <td>PogU</td>\n",
       "    </tr>\n",
       "    <tr>\n",
       "      <th>0:00:03:057</th>\n",
       "      <td>callmedaddy47022</td>\n",
       "      <td>POG</td>\n",
       "    </tr>\n",
       "    <tr>\n",
       "      <th>0:00:03:198</th>\n",
       "      <td>CuriousCarrots</td>\n",
       "      <td>PogU</td>\n",
       "    </tr>\n",
       "    <tr>\n",
       "      <th>0:00:03:666</th>\n",
       "      <td>Dako_I</td>\n",
       "      <td>PogU</td>\n",
       "    </tr>\n",
       "  </tbody>\n",
       "</table>\n",
       "</div>"
      ],
      "text/plain": [
       "                     username               message\n",
       "timecode                                           \n",
       "0:00:00:023            HCTR17              peepoHey\n",
       "0:00:02:050            HCTR17                 !cock\n",
       "0:00:02:118          yoDeRock                  PogU\n",
       "0:00:02:134       bythonbicks             PogU live\n",
       "0:00:02:170        Shorecross                   OMG\n",
       "0:00:02:740         JohnAtoms  DANKHACKERMANS cusst\n",
       "0:00:02:899         SarahLawl                  PogU\n",
       "0:00:03:057  callmedaddy47022                   POG\n",
       "0:00:03:198    CuriousCarrots                  PogU\n",
       "0:00:03:666            Dako_I                  PogU"
      ]
     },
     "execution_count": 5,
     "metadata": {},
     "output_type": "execute_result"
    }
   ],
   "source": [
    "#remove channel's main bot messages\n",
    "df = df[df.username != 'Fossabot']\n",
    "df.head(10)"
   ]
  },
  {
   "cell_type": "code",
   "execution_count": 6,
   "metadata": {},
   "outputs": [
    {
     "name": "stdout",
     "output_type": "stream",
     "text": [
      "Total messages: 200,296\n"
     ]
    }
   ],
   "source": [
    "#get total message number\n",
    "num_messages = df.shape[0]\n",
    "print(\"Total messages: {:,}\".format(num_messages))"
   ]
  },
  {
   "cell_type": "code",
   "execution_count": 7,
   "metadata": {},
   "outputs": [],
   "source": [
    "#tokenize df into subframe\n",
    "dft=df['message'].str.split(r\"[\\s',]+\", expand=True).stack()\\\n",
    "    .to_frame().rename(columns={0:'msg_token'})\n",
    "\n",
    "dft.index.names = ['timecode','num_in_msg']"
   ]
  },
  {
   "cell_type": "code",
   "execution_count": 8,
   "metadata": {},
   "outputs": [],
   "source": [
    "#merge dfs\n",
    "dft=dft.merge(df,how='inner',on='timecode')"
   ]
  },
  {
   "cell_type": "code",
   "execution_count": 9,
   "metadata": {},
   "outputs": [
    {
     "data": {
      "text/html": [
       "<div>\n",
       "<style scoped>\n",
       "    .dataframe tbody tr th:only-of-type {\n",
       "        vertical-align: middle;\n",
       "    }\n",
       "\n",
       "    .dataframe tbody tr th {\n",
       "        vertical-align: top;\n",
       "    }\n",
       "\n",
       "    .dataframe thead th {\n",
       "        text-align: right;\n",
       "    }\n",
       "</style>\n",
       "<table border=\"1\" class=\"dataframe\">\n",
       "  <thead>\n",
       "    <tr style=\"text-align: right;\">\n",
       "      <th></th>\n",
       "      <th>username</th>\n",
       "      <th>message</th>\n",
       "      <th>msg_token</th>\n",
       "    </tr>\n",
       "    <tr>\n",
       "      <th>timecode</th>\n",
       "      <th></th>\n",
       "      <th></th>\n",
       "      <th></th>\n",
       "    </tr>\n",
       "  </thead>\n",
       "  <tbody>\n",
       "    <tr>\n",
       "      <th>0:00:00:023</th>\n",
       "      <td>HCTR17</td>\n",
       "      <td>peepoHey</td>\n",
       "      <td>peepoHey</td>\n",
       "    </tr>\n",
       "    <tr>\n",
       "      <th>0:00:02:050</th>\n",
       "      <td>HCTR17</td>\n",
       "      <td>!cock</td>\n",
       "      <td>!cock</td>\n",
       "    </tr>\n",
       "    <tr>\n",
       "      <th>0:00:02:118</th>\n",
       "      <td>yoDeRock</td>\n",
       "      <td>PogU</td>\n",
       "      <td>PogU</td>\n",
       "    </tr>\n",
       "    <tr>\n",
       "      <th>0:00:02:134</th>\n",
       "      <td>bythonbicks</td>\n",
       "      <td>PogU live</td>\n",
       "      <td>PogU</td>\n",
       "    </tr>\n",
       "    <tr>\n",
       "      <th>0:00:02:134</th>\n",
       "      <td>bythonbicks</td>\n",
       "      <td>PogU live</td>\n",
       "      <td>live</td>\n",
       "    </tr>\n",
       "    <tr>\n",
       "      <th>0:00:02:170</th>\n",
       "      <td>Shorecross</td>\n",
       "      <td>OMG</td>\n",
       "      <td>OMG</td>\n",
       "    </tr>\n",
       "    <tr>\n",
       "      <th>0:00:02:740</th>\n",
       "      <td>JohnAtoms</td>\n",
       "      <td>DANKHACKERMANS cusst</td>\n",
       "      <td>DANKHACKERMANS</td>\n",
       "    </tr>\n",
       "    <tr>\n",
       "      <th>0:00:02:740</th>\n",
       "      <td>JohnAtoms</td>\n",
       "      <td>DANKHACKERMANS cusst</td>\n",
       "      <td>cusst</td>\n",
       "    </tr>\n",
       "    <tr>\n",
       "      <th>0:00:02:899</th>\n",
       "      <td>SarahLawl</td>\n",
       "      <td>PogU</td>\n",
       "      <td>PogU</td>\n",
       "    </tr>\n",
       "    <tr>\n",
       "      <th>0:00:03:057</th>\n",
       "      <td>callmedaddy47022</td>\n",
       "      <td>POG</td>\n",
       "      <td>POG</td>\n",
       "    </tr>\n",
       "    <tr>\n",
       "      <th>0:00:03:198</th>\n",
       "      <td>CuriousCarrots</td>\n",
       "      <td>PogU</td>\n",
       "      <td>PogU</td>\n",
       "    </tr>\n",
       "    <tr>\n",
       "      <th>0:00:03:666</th>\n",
       "      <td>Dako_I</td>\n",
       "      <td>PogU</td>\n",
       "      <td>PogU</td>\n",
       "    </tr>\n",
       "    <tr>\n",
       "      <th>0:00:03:774</th>\n",
       "      <td>WingyDingies</td>\n",
       "      <td>PogU</td>\n",
       "      <td>PogU</td>\n",
       "    </tr>\n",
       "    <tr>\n",
       "      <th>0:00:04:352</th>\n",
       "      <td>EmmaEmmerrrr</td>\n",
       "      <td>PogU</td>\n",
       "      <td>PogU</td>\n",
       "    </tr>\n",
       "    <tr>\n",
       "      <th>0:00:04:781</th>\n",
       "      <td>hi_hello_its_mo</td>\n",
       "      <td>peepoHey Azan</td>\n",
       "      <td>peepoHey</td>\n",
       "    </tr>\n",
       "    <tr>\n",
       "      <th>0:00:04:781</th>\n",
       "      <td>hi_hello_its_mo</td>\n",
       "      <td>peepoHey Azan</td>\n",
       "      <td>Azan</td>\n",
       "    </tr>\n",
       "    <tr>\n",
       "      <th>0:00:04:864</th>\n",
       "      <td>Durp</td>\n",
       "      <td>Pog</td>\n",
       "      <td>Pog</td>\n",
       "    </tr>\n",
       "    <tr>\n",
       "      <th>0:00:05:072</th>\n",
       "      <td>noeschiste</td>\n",
       "      <td>sam adams</td>\n",
       "      <td>sam</td>\n",
       "    </tr>\n",
       "    <tr>\n",
       "      <th>0:00:05:072</th>\n",
       "      <td>noeschiste</td>\n",
       "      <td>sam adams</td>\n",
       "      <td>adams</td>\n",
       "    </tr>\n",
       "    <tr>\n",
       "      <th>0:00:05:218</th>\n",
       "      <td>AmazefulBot</td>\n",
       "      <td>[Trivia] @noeschiste You answered the question...</td>\n",
       "      <td>[Trivia]</td>\n",
       "    </tr>\n",
       "    <tr>\n",
       "      <th>0:00:05:218</th>\n",
       "      <td>AmazefulBot</td>\n",
       "      <td>[Trivia] @noeschiste You answered the question...</td>\n",
       "      <td>@noeschiste</td>\n",
       "    </tr>\n",
       "    <tr>\n",
       "      <th>0:00:05:218</th>\n",
       "      <td>AmazefulBot</td>\n",
       "      <td>[Trivia] @noeschiste You answered the question...</td>\n",
       "      <td>You</td>\n",
       "    </tr>\n",
       "    <tr>\n",
       "      <th>0:00:05:218</th>\n",
       "      <td>AmazefulBot</td>\n",
       "      <td>[Trivia] @noeschiste You answered the question...</td>\n",
       "      <td>answered</td>\n",
       "    </tr>\n",
       "    <tr>\n",
       "      <th>0:00:05:218</th>\n",
       "      <td>AmazefulBot</td>\n",
       "      <td>[Trivia] @noeschiste You answered the question...</td>\n",
       "      <td>the</td>\n",
       "    </tr>\n",
       "    <tr>\n",
       "      <th>0:00:05:218</th>\n",
       "      <td>AmazefulBot</td>\n",
       "      <td>[Trivia] @noeschiste You answered the question...</td>\n",
       "      <td>question</td>\n",
       "    </tr>\n",
       "    <tr>\n",
       "      <th>0:00:05:218</th>\n",
       "      <td>AmazefulBot</td>\n",
       "      <td>[Trivia] @noeschiste You answered the question...</td>\n",
       "      <td>correctly</td>\n",
       "    </tr>\n",
       "    <tr>\n",
       "      <th>0:00:05:218</th>\n",
       "      <td>AmazefulBot</td>\n",
       "      <td>[Trivia] @noeschiste You answered the question...</td>\n",
       "      <td>and</td>\n",
       "    </tr>\n",
       "    <tr>\n",
       "      <th>0:00:05:218</th>\n",
       "      <td>AmazefulBot</td>\n",
       "      <td>[Trivia] @noeschiste You answered the question...</td>\n",
       "      <td>got</td>\n",
       "    </tr>\n",
       "    <tr>\n",
       "      <th>0:00:05:218</th>\n",
       "      <td>AmazefulBot</td>\n",
       "      <td>[Trivia] @noeschiste You answered the question...</td>\n",
       "      <td>10</td>\n",
       "    </tr>\n",
       "    <tr>\n",
       "      <th>0:00:05:218</th>\n",
       "      <td>AmazefulBot</td>\n",
       "      <td>[Trivia] @noeschiste You answered the question...</td>\n",
       "      <td>points.</td>\n",
       "    </tr>\n",
       "  </tbody>\n",
       "</table>\n",
       "</div>"
      ],
      "text/plain": [
       "                     username  \\\n",
       "timecode                        \n",
       "0:00:00:023            HCTR17   \n",
       "0:00:02:050            HCTR17   \n",
       "0:00:02:118          yoDeRock   \n",
       "0:00:02:134       bythonbicks   \n",
       "0:00:02:134       bythonbicks   \n",
       "0:00:02:170        Shorecross   \n",
       "0:00:02:740         JohnAtoms   \n",
       "0:00:02:740         JohnAtoms   \n",
       "0:00:02:899         SarahLawl   \n",
       "0:00:03:057  callmedaddy47022   \n",
       "0:00:03:198    CuriousCarrots   \n",
       "0:00:03:666            Dako_I   \n",
       "0:00:03:774      WingyDingies   \n",
       "0:00:04:352      EmmaEmmerrrr   \n",
       "0:00:04:781   hi_hello_its_mo   \n",
       "0:00:04:781   hi_hello_its_mo   \n",
       "0:00:04:864              Durp   \n",
       "0:00:05:072        noeschiste   \n",
       "0:00:05:072        noeschiste   \n",
       "0:00:05:218       AmazefulBot   \n",
       "0:00:05:218       AmazefulBot   \n",
       "0:00:05:218       AmazefulBot   \n",
       "0:00:05:218       AmazefulBot   \n",
       "0:00:05:218       AmazefulBot   \n",
       "0:00:05:218       AmazefulBot   \n",
       "0:00:05:218       AmazefulBot   \n",
       "0:00:05:218       AmazefulBot   \n",
       "0:00:05:218       AmazefulBot   \n",
       "0:00:05:218       AmazefulBot   \n",
       "0:00:05:218       AmazefulBot   \n",
       "\n",
       "                                                       message       msg_token  \n",
       "timecode                                                                        \n",
       "0:00:00:023                                           peepoHey        peepoHey  \n",
       "0:00:02:050                                              !cock           !cock  \n",
       "0:00:02:118                                               PogU            PogU  \n",
       "0:00:02:134                                          PogU live            PogU  \n",
       "0:00:02:134                                          PogU live            live  \n",
       "0:00:02:170                                                OMG             OMG  \n",
       "0:00:02:740                               DANKHACKERMANS cusst  DANKHACKERMANS  \n",
       "0:00:02:740                               DANKHACKERMANS cusst           cusst  \n",
       "0:00:02:899                                               PogU            PogU  \n",
       "0:00:03:057                                                POG             POG  \n",
       "0:00:03:198                                               PogU            PogU  \n",
       "0:00:03:666                                               PogU            PogU  \n",
       "0:00:03:774                                               PogU            PogU  \n",
       "0:00:04:352                                               PogU            PogU  \n",
       "0:00:04:781                                      peepoHey Azan        peepoHey  \n",
       "0:00:04:781                                      peepoHey Azan            Azan  \n",
       "0:00:04:864                                                Pog             Pog  \n",
       "0:00:05:072                                          sam adams             sam  \n",
       "0:00:05:072                                          sam adams           adams  \n",
       "0:00:05:218  [Trivia] @noeschiste You answered the question...        [Trivia]  \n",
       "0:00:05:218  [Trivia] @noeschiste You answered the question...     @noeschiste  \n",
       "0:00:05:218  [Trivia] @noeschiste You answered the question...             You  \n",
       "0:00:05:218  [Trivia] @noeschiste You answered the question...        answered  \n",
       "0:00:05:218  [Trivia] @noeschiste You answered the question...             the  \n",
       "0:00:05:218  [Trivia] @noeschiste You answered the question...        question  \n",
       "0:00:05:218  [Trivia] @noeschiste You answered the question...       correctly  \n",
       "0:00:05:218  [Trivia] @noeschiste You answered the question...             and  \n",
       "0:00:05:218  [Trivia] @noeschiste You answered the question...             got  \n",
       "0:00:05:218  [Trivia] @noeschiste You answered the question...              10  \n",
       "0:00:05:218  [Trivia] @noeschiste You answered the question...         points.  "
      ]
     },
     "execution_count": 9,
     "metadata": {},
     "output_type": "execute_result"
    }
   ],
   "source": [
    "#rearrange columns\n",
    "dft=dft[[\"username\",\"message\",\"msg_token\"]]\n",
    "dft.head(30)"
   ]
  },
  {
   "cell_type": "code",
   "execution_count": 10,
   "metadata": {},
   "outputs": [],
   "source": [
    "#save to csv \n",
    "dft.to_csv(dirid + docid + \"_info_withstopwords.csv\",index=True)"
   ]
  },
  {
   "cell_type": "code",
   "execution_count": 11,
   "metadata": {},
   "outputs": [],
   "source": [
    "#from stopwords\n",
    "import numpy as np\n",
    "import nltk\n",
    "from nltk.corpus import stopwords\n",
    "stop = stopwords.words('english')\n",
    "# need to remove different case stopwords\n",
    "upperstop = list(map(lambda x: x.upper(), stop))\n",
    "capstop = list(map(lambda x: x.capitalize(), stop))\n",
    "stop = stop + upperstop + capstop\n",
    "\n",
    "csvname=dirid + docid + \"_info_withstopwords.csv\"\n",
    "\n",
    "df = pd.read_csv(csvname)\n",
    "df.index.names=['msg_num']"
   ]
  },
  {
   "cell_type": "code",
   "execution_count": 12,
   "metadata": {},
   "outputs": [],
   "source": [
    "def convert_timestamp(timestamp):\n",
    "  (h, m, s, ms) = timestamp.split(\":\")\n",
    "  # (s, ms) = seconds.split(',')\n",
    "  h = int(h)\n",
    "  m = int(m)\n",
    "  s = int(s)\n",
    "  ms = int(ms) * 1000\n",
    "  ts = pd.Timestamp(year=2021, month=10, day=16, \n",
    "                    hour=h, minute=m, second=s, microsecond=ms)\n",
    "  return ts"
   ]
  },
  {
   "cell_type": "code",
   "execution_count": 13,
   "metadata": {},
   "outputs": [],
   "source": [
    "df.loc[:, \"timestamp\"] = df.timecode.apply(convert_timestamp)"
   ]
  },
  {
   "cell_type": "code",
   "execution_count": 14,
   "metadata": {},
   "outputs": [],
   "source": [
    "df.set_index(\"timestamp\", inplace=True)"
   ]
  },
  {
   "cell_type": "code",
   "execution_count": 15,
   "metadata": {},
   "outputs": [],
   "source": [
    "df.drop(\"timecode\", axis=1, inplace=True)"
   ]
  },
  {
   "cell_type": "code",
   "execution_count": 16,
   "metadata": {},
   "outputs": [
    {
     "data": {
      "text/html": [
       "<div>\n",
       "<style scoped>\n",
       "    .dataframe tbody tr th:only-of-type {\n",
       "        vertical-align: middle;\n",
       "    }\n",
       "\n",
       "    .dataframe tbody tr th {\n",
       "        vertical-align: top;\n",
       "    }\n",
       "\n",
       "    .dataframe thead th {\n",
       "        text-align: right;\n",
       "    }\n",
       "</style>\n",
       "<table border=\"1\" class=\"dataframe\">\n",
       "  <thead>\n",
       "    <tr style=\"text-align: right;\">\n",
       "      <th></th>\n",
       "      <th>username</th>\n",
       "      <th>message</th>\n",
       "      <th>msg_token</th>\n",
       "    </tr>\n",
       "    <tr>\n",
       "      <th>timestamp</th>\n",
       "      <th></th>\n",
       "      <th></th>\n",
       "      <th></th>\n",
       "    </tr>\n",
       "  </thead>\n",
       "  <tbody>\n",
       "    <tr>\n",
       "      <th>2021-10-16 00:00:00.023</th>\n",
       "      <td>HCTR17</td>\n",
       "      <td>peepoHey</td>\n",
       "      <td>peepoHey</td>\n",
       "    </tr>\n",
       "    <tr>\n",
       "      <th>2021-10-16 00:00:02.050</th>\n",
       "      <td>HCTR17</td>\n",
       "      <td>!cock</td>\n",
       "      <td>!cock</td>\n",
       "    </tr>\n",
       "    <tr>\n",
       "      <th>2021-10-16 00:00:02.118</th>\n",
       "      <td>yoDeRock</td>\n",
       "      <td>PogU</td>\n",
       "      <td>PogU</td>\n",
       "    </tr>\n",
       "    <tr>\n",
       "      <th>2021-10-16 00:00:02.134</th>\n",
       "      <td>bythonbicks</td>\n",
       "      <td>PogU live</td>\n",
       "      <td>PogU</td>\n",
       "    </tr>\n",
       "    <tr>\n",
       "      <th>2021-10-16 00:00:02.134</th>\n",
       "      <td>bythonbicks</td>\n",
       "      <td>PogU live</td>\n",
       "      <td>live</td>\n",
       "    </tr>\n",
       "    <tr>\n",
       "      <th>2021-10-16 00:00:02.170</th>\n",
       "      <td>Shorecross</td>\n",
       "      <td>OMG</td>\n",
       "      <td>OMG</td>\n",
       "    </tr>\n",
       "    <tr>\n",
       "      <th>2021-10-16 00:00:02.740</th>\n",
       "      <td>JohnAtoms</td>\n",
       "      <td>DANKHACKERMANS cusst</td>\n",
       "      <td>DANKHACKERMANS</td>\n",
       "    </tr>\n",
       "    <tr>\n",
       "      <th>2021-10-16 00:00:02.740</th>\n",
       "      <td>JohnAtoms</td>\n",
       "      <td>DANKHACKERMANS cusst</td>\n",
       "      <td>cusst</td>\n",
       "    </tr>\n",
       "    <tr>\n",
       "      <th>2021-10-16 00:00:02.899</th>\n",
       "      <td>SarahLawl</td>\n",
       "      <td>PogU</td>\n",
       "      <td>PogU</td>\n",
       "    </tr>\n",
       "    <tr>\n",
       "      <th>2021-10-16 00:00:03.057</th>\n",
       "      <td>callmedaddy47022</td>\n",
       "      <td>POG</td>\n",
       "      <td>POG</td>\n",
       "    </tr>\n",
       "  </tbody>\n",
       "</table>\n",
       "</div>"
      ],
      "text/plain": [
       "                                 username               message  \\\n",
       "timestamp                                                         \n",
       "2021-10-16 00:00:00.023            HCTR17              peepoHey   \n",
       "2021-10-16 00:00:02.050            HCTR17                 !cock   \n",
       "2021-10-16 00:00:02.118          yoDeRock                  PogU   \n",
       "2021-10-16 00:00:02.134       bythonbicks             PogU live   \n",
       "2021-10-16 00:00:02.134       bythonbicks             PogU live   \n",
       "2021-10-16 00:00:02.170        Shorecross                   OMG   \n",
       "2021-10-16 00:00:02.740         JohnAtoms  DANKHACKERMANS cusst   \n",
       "2021-10-16 00:00:02.740         JohnAtoms  DANKHACKERMANS cusst   \n",
       "2021-10-16 00:00:02.899         SarahLawl                  PogU   \n",
       "2021-10-16 00:00:03.057  callmedaddy47022                   POG   \n",
       "\n",
       "                              msg_token  \n",
       "timestamp                                \n",
       "2021-10-16 00:00:00.023        peepoHey  \n",
       "2021-10-16 00:00:02.050           !cock  \n",
       "2021-10-16 00:00:02.118            PogU  \n",
       "2021-10-16 00:00:02.134            PogU  \n",
       "2021-10-16 00:00:02.134            live  \n",
       "2021-10-16 00:00:02.170             OMG  \n",
       "2021-10-16 00:00:02.740  DANKHACKERMANS  \n",
       "2021-10-16 00:00:02.740           cusst  \n",
       "2021-10-16 00:00:02.899            PogU  \n",
       "2021-10-16 00:00:03.057             POG  "
      ]
     },
     "execution_count": 16,
     "metadata": {},
     "output_type": "execute_result"
    }
   ],
   "source": [
    "df.head(10)"
   ]
  },
  {
   "cell_type": "code",
   "execution_count": 17,
   "metadata": {},
   "outputs": [],
   "source": [
    "df = df[df['msg_token'].notnull()]"
   ]
  },
  {
   "cell_type": "code",
   "execution_count": 18,
   "metadata": {},
   "outputs": [],
   "source": [
    "nonstop = df\n",
    "#remove nltk stopwords\n",
    "nonstop['msg_token'] = nonstop['msg_token'].apply(lambda x: ' '.join([word for word in x.split() if word not in (stop)]))\n",
    "#replace empty token rows with NaNs\n",
    "nonstop['msg_token'].replace('', np.nan, inplace=True)\n",
    "#remove NaN rows\n",
    "nonstop.dropna(subset=['msg_token'], inplace=True)"
   ]
  },
  {
   "cell_type": "code",
   "execution_count": 19,
   "metadata": {},
   "outputs": [
    {
     "name": "stdout",
     "output_type": "stream",
     "text": [
      "KEKW         26557\n",
      "@HasanAbi    13717\n",
      "OMEGALUL      9864\n",
      "hasL          7645\n",
      "PepeLa        7407\n",
      "GIGAHAS       7122\n",
      "LETSGO        6733\n",
      "YEP           5971\n",
      "@hasanabi     4805\n",
      "monkaW        3943\n",
      "KEKWait       3461\n",
      "PogU          3253\n",
      "like          3004\n",
      "HOGGERS       2892\n",
      "PogO          2879\n",
      "Name: msg_token, dtype: int64\n"
     ]
    }
   ],
   "source": [
    "# nonstop.head(10)\n",
    "\n",
    "# get most freq terms\n",
    "count = nonstop['msg_token'].value_counts()\n",
    "print(count.head(15))"
   ]
  },
  {
   "cell_type": "code",
   "execution_count": 20,
   "metadata": {},
   "outputs": [
    {
     "data": {
      "text/html": [
       "<div>\n",
       "<style scoped>\n",
       "    .dataframe tbody tr th:only-of-type {\n",
       "        vertical-align: middle;\n",
       "    }\n",
       "\n",
       "    .dataframe tbody tr th {\n",
       "        vertical-align: top;\n",
       "    }\n",
       "\n",
       "    .dataframe thead th {\n",
       "        text-align: right;\n",
       "    }\n",
       "</style>\n",
       "<table border=\"1\" class=\"dataframe\">\n",
       "  <thead>\n",
       "    <tr style=\"text-align: right;\">\n",
       "      <th></th>\n",
       "      <th>username</th>\n",
       "      <th>message</th>\n",
       "      <th>msg_token</th>\n",
       "    </tr>\n",
       "    <tr>\n",
       "      <th>timestamp</th>\n",
       "      <th></th>\n",
       "      <th></th>\n",
       "      <th></th>\n",
       "    </tr>\n",
       "  </thead>\n",
       "  <tbody>\n",
       "    <tr>\n",
       "      <th>2021-10-16 00:00:00.023</th>\n",
       "      <td>HCTR17</td>\n",
       "      <td>peepoHey</td>\n",
       "      <td>peepoHey</td>\n",
       "    </tr>\n",
       "    <tr>\n",
       "      <th>2021-10-16 00:00:02.050</th>\n",
       "      <td>HCTR17</td>\n",
       "      <td>!cock</td>\n",
       "      <td>!cock</td>\n",
       "    </tr>\n",
       "    <tr>\n",
       "      <th>2021-10-16 00:00:02.118</th>\n",
       "      <td>yoDeRock</td>\n",
       "      <td>PogU</td>\n",
       "      <td>PogU</td>\n",
       "    </tr>\n",
       "    <tr>\n",
       "      <th>2021-10-16 00:00:02.134</th>\n",
       "      <td>bythonbicks</td>\n",
       "      <td>PogU live</td>\n",
       "      <td>PogU</td>\n",
       "    </tr>\n",
       "    <tr>\n",
       "      <th>2021-10-16 00:00:02.134</th>\n",
       "      <td>bythonbicks</td>\n",
       "      <td>PogU live</td>\n",
       "      <td>live</td>\n",
       "    </tr>\n",
       "    <tr>\n",
       "      <th>2021-10-16 00:00:02.170</th>\n",
       "      <td>Shorecross</td>\n",
       "      <td>OMG</td>\n",
       "      <td>OMG</td>\n",
       "    </tr>\n",
       "    <tr>\n",
       "      <th>2021-10-16 00:00:02.740</th>\n",
       "      <td>JohnAtoms</td>\n",
       "      <td>DANKHACKERMANS cusst</td>\n",
       "      <td>DANKHACKERMANS</td>\n",
       "    </tr>\n",
       "    <tr>\n",
       "      <th>2021-10-16 00:00:02.740</th>\n",
       "      <td>JohnAtoms</td>\n",
       "      <td>DANKHACKERMANS cusst</td>\n",
       "      <td>cusst</td>\n",
       "    </tr>\n",
       "    <tr>\n",
       "      <th>2021-10-16 00:00:02.899</th>\n",
       "      <td>SarahLawl</td>\n",
       "      <td>PogU</td>\n",
       "      <td>PogU</td>\n",
       "    </tr>\n",
       "    <tr>\n",
       "      <th>2021-10-16 00:00:03.057</th>\n",
       "      <td>callmedaddy47022</td>\n",
       "      <td>POG</td>\n",
       "      <td>POG</td>\n",
       "    </tr>\n",
       "  </tbody>\n",
       "</table>\n",
       "</div>"
      ],
      "text/plain": [
       "                                 username               message  \\\n",
       "timestamp                                                         \n",
       "2021-10-16 00:00:00.023            HCTR17              peepoHey   \n",
       "2021-10-16 00:00:02.050            HCTR17                 !cock   \n",
       "2021-10-16 00:00:02.118          yoDeRock                  PogU   \n",
       "2021-10-16 00:00:02.134       bythonbicks             PogU live   \n",
       "2021-10-16 00:00:02.134       bythonbicks             PogU live   \n",
       "2021-10-16 00:00:02.170        Shorecross                   OMG   \n",
       "2021-10-16 00:00:02.740         JohnAtoms  DANKHACKERMANS cusst   \n",
       "2021-10-16 00:00:02.740         JohnAtoms  DANKHACKERMANS cusst   \n",
       "2021-10-16 00:00:02.899         SarahLawl                  PogU   \n",
       "2021-10-16 00:00:03.057  callmedaddy47022                   POG   \n",
       "\n",
       "                              msg_token  \n",
       "timestamp                                \n",
       "2021-10-16 00:00:00.023        peepoHey  \n",
       "2021-10-16 00:00:02.050           !cock  \n",
       "2021-10-16 00:00:02.118            PogU  \n",
       "2021-10-16 00:00:02.134            PogU  \n",
       "2021-10-16 00:00:02.134            live  \n",
       "2021-10-16 00:00:02.170             OMG  \n",
       "2021-10-16 00:00:02.740  DANKHACKERMANS  \n",
       "2021-10-16 00:00:02.740           cusst  \n",
       "2021-10-16 00:00:02.899            PogU  \n",
       "2021-10-16 00:00:03.057             POG  "
      ]
     },
     "execution_count": 20,
     "metadata": {},
     "output_type": "execute_result"
    }
   ],
   "source": [
    "nonstop.head(10)"
   ]
  },
  {
   "cell_type": "code",
   "execution_count": 21,
   "metadata": {},
   "outputs": [],
   "source": [
    "#export to csv\n",
    "nonstop.to_csv(dirid + docid + \"_nostops.csv\",index=True)"
   ]
  },
  {
   "cell_type": "markdown",
   "metadata": {},
   "source": [
    "### Begin deliverables / info get"
   ]
  },
  {
   "cell_type": "code",
   "execution_count": 37,
   "metadata": {},
   "outputs": [],
   "source": [
    "import matplotlib.pyplot as plt\n",
    "import seaborn as sns\n",
    "sns.set_theme()\n",
    "sns.set_style(\"dark\")\n",
    "sns.set_style(\"ticks\")\n",
    "\n",
    "#csvname=dirid + docid + \"_nsnb.csv\"\n",
    "\n",
    "#df=nonstop\n",
    "# df = pd.read_csv(csvname)\n",
    "# df.head(10)"
   ]
  },
  {
   "cell_type": "code",
   "execution_count": 38,
   "metadata": {},
   "outputs": [
    {
     "name": "stdout",
     "output_type": "stream",
     "text": [
      "Unique usernames: 20,831\n"
     ]
    }
   ],
   "source": [
    "user_freq = nonstop.groupby([\"username\"]).count()\n",
    "print(\"Unique usernames: {:,}\".format(user_freq.shape[0]))"
   ]
  },
  {
   "cell_type": "code",
   "execution_count": 39,
   "metadata": {},
   "outputs": [
    {
     "name": "stdout",
     "output_type": "stream",
     "text": [
      "Mean messages sent per user: 34.09 (SD=93.74)\n"
     ]
    }
   ],
   "source": [
    "print(\"Mean messages sent per user: {:,.2f} (SD={:.2f})\".format(user_freq.message.mean(), user_freq.message.std()))"
   ]
  },
  {
   "cell_type": "code",
   "execution_count": 40,
   "metadata": {},
   "outputs": [
    {
     "name": "stdout",
     "output_type": "stream",
     "text": [
      "Median messages sent per user: 9\n"
     ]
    }
   ],
   "source": [
    "print(\"Median messages sent per user: {:,.0f}\".format(user_freq.message.median()))"
   ]
  },
  {
   "cell_type": "code",
   "execution_count": 41,
   "metadata": {},
   "outputs": [
    {
     "data": {
      "text/html": [
       "<div>\n",
       "<style scoped>\n",
       "    .dataframe tbody tr th:only-of-type {\n",
       "        vertical-align: middle;\n",
       "    }\n",
       "\n",
       "    .dataframe tbody tr th {\n",
       "        vertical-align: top;\n",
       "    }\n",
       "\n",
       "    .dataframe thead th {\n",
       "        text-align: right;\n",
       "    }\n",
       "</style>\n",
       "<table border=\"1\" class=\"dataframe\">\n",
       "  <thead>\n",
       "    <tr style=\"text-align: right;\">\n",
       "      <th></th>\n",
       "      <th>message</th>\n",
       "      <th>msg_token</th>\n",
       "    </tr>\n",
       "  </thead>\n",
       "  <tbody>\n",
       "    <tr>\n",
       "      <th>count</th>\n",
       "      <td>20831.000000</td>\n",
       "      <td>20831.000000</td>\n",
       "    </tr>\n",
       "    <tr>\n",
       "      <th>mean</th>\n",
       "      <td>34.092026</td>\n",
       "      <td>34.092026</td>\n",
       "    </tr>\n",
       "    <tr>\n",
       "      <th>std</th>\n",
       "      <td>93.743083</td>\n",
       "      <td>93.743083</td>\n",
       "    </tr>\n",
       "    <tr>\n",
       "      <th>min</th>\n",
       "      <td>1.000000</td>\n",
       "      <td>1.000000</td>\n",
       "    </tr>\n",
       "    <tr>\n",
       "      <th>25%</th>\n",
       "      <td>3.000000</td>\n",
       "      <td>3.000000</td>\n",
       "    </tr>\n",
       "    <tr>\n",
       "      <th>50%</th>\n",
       "      <td>9.000000</td>\n",
       "      <td>9.000000</td>\n",
       "    </tr>\n",
       "    <tr>\n",
       "      <th>75%</th>\n",
       "      <td>28.000000</td>\n",
       "      <td>28.000000</td>\n",
       "    </tr>\n",
       "    <tr>\n",
       "      <th>max</th>\n",
       "      <td>3373.000000</td>\n",
       "      <td>3373.000000</td>\n",
       "    </tr>\n",
       "  </tbody>\n",
       "</table>\n",
       "</div>"
      ],
      "text/plain": [
       "            message     msg_token\n",
       "count  20831.000000  20831.000000\n",
       "mean      34.092026     34.092026\n",
       "std       93.743083     93.743083\n",
       "min        1.000000      1.000000\n",
       "25%        3.000000      3.000000\n",
       "50%        9.000000      9.000000\n",
       "75%       28.000000     28.000000\n",
       "max     3373.000000   3373.000000"
      ]
     },
     "execution_count": 41,
     "metadata": {},
     "output_type": "execute_result"
    }
   ],
   "source": [
    "user_freq.describe()"
   ]
  },
  {
   "cell_type": "code",
   "execution_count": 27,
   "metadata": {},
   "outputs": [
    {
     "data": {
      "text/html": [
       "<div>\n",
       "<style scoped>\n",
       "    .dataframe tbody tr th:only-of-type {\n",
       "        vertical-align: middle;\n",
       "    }\n",
       "\n",
       "    .dataframe tbody tr th {\n",
       "        vertical-align: top;\n",
       "    }\n",
       "\n",
       "    .dataframe thead th {\n",
       "        text-align: right;\n",
       "    }\n",
       "</style>\n",
       "<table border=\"1\" class=\"dataframe\">\n",
       "  <thead>\n",
       "    <tr style=\"text-align: right;\">\n",
       "      <th></th>\n",
       "      <th>message</th>\n",
       "      <th>msg_token</th>\n",
       "    </tr>\n",
       "  </thead>\n",
       "  <tbody>\n",
       "    <tr>\n",
       "      <th>0.00</th>\n",
       "      <td>1.0</td>\n",
       "      <td>1.0</td>\n",
       "    </tr>\n",
       "    <tr>\n",
       "      <th>0.50</th>\n",
       "      <td>9.0</td>\n",
       "      <td>9.0</td>\n",
       "    </tr>\n",
       "    <tr>\n",
       "      <th>0.90</th>\n",
       "      <td>77.0</td>\n",
       "      <td>77.0</td>\n",
       "    </tr>\n",
       "    <tr>\n",
       "      <th>0.95</th>\n",
       "      <td>138.0</td>\n",
       "      <td>138.0</td>\n",
       "    </tr>\n",
       "    <tr>\n",
       "      <th>0.99</th>\n",
       "      <td>403.7</td>\n",
       "      <td>403.7</td>\n",
       "    </tr>\n",
       "    <tr>\n",
       "      <th>1.00</th>\n",
       "      <td>3373.0</td>\n",
       "      <td>3373.0</td>\n",
       "    </tr>\n",
       "  </tbody>\n",
       "</table>\n",
       "</div>"
      ],
      "text/plain": [
       "      message  msg_token\n",
       "0.00      1.0        1.0\n",
       "0.50      9.0        9.0\n",
       "0.90     77.0       77.0\n",
       "0.95    138.0      138.0\n",
       "0.99    403.7      403.7\n",
       "1.00   3373.0     3373.0"
      ]
     },
     "execution_count": 27,
     "metadata": {},
     "output_type": "execute_result"
    }
   ],
   "source": [
    "user_freq.quantile(q=[0.0,0.5,0.90,0.95,0.99,1.0])"
   ]
  },
  {
   "cell_type": "code",
   "execution_count": 42,
   "metadata": {},
   "outputs": [
    {
     "data": {
      "text/plain": [
       "<seaborn.axisgrid.FacetGrid at 0x7f97405b0d60>"
      ]
     },
     "execution_count": 42,
     "metadata": {},
     "output_type": "execute_result"
    },
    {
     "data": {
      "image/png": "[encoded data removed]",
      "text/plain": [
       "<Figure size 360x360 with 1 Axes>"
      ]
     },
     "metadata": {},
     "output_type": "display_data"
    }
   ],
   "source": [
    "# Most viewers sent VERY FEW messages\n",
    "sns.displot(user_freq.message, binwidth=50)"
   ]
  },
  {
   "cell_type": "code",
   "execution_count": 29,
   "metadata": {},
   "outputs": [
    {
     "name": "stdout",
     "output_type": "stream",
     "text": [
      "Top 10 users by number of messages sent:\n"
     ]
    },
    {
     "data": {
      "text/html": [
       "<div>\n",
       "<style scoped>\n",
       "    .dataframe tbody tr th:only-of-type {\n",
       "        vertical-align: middle;\n",
       "    }\n",
       "\n",
       "    .dataframe tbody tr th {\n",
       "        vertical-align: top;\n",
       "    }\n",
       "\n",
       "    .dataframe thead th {\n",
       "        text-align: right;\n",
       "    }\n",
       "</style>\n",
       "<table border=\"1\" class=\"dataframe\">\n",
       "  <thead>\n",
       "    <tr style=\"text-align: right;\">\n",
       "      <th></th>\n",
       "      <th>message</th>\n",
       "      <th>msg_token</th>\n",
       "    </tr>\n",
       "    <tr>\n",
       "      <th>username</th>\n",
       "      <th></th>\n",
       "      <th></th>\n",
       "    </tr>\n",
       "  </thead>\n",
       "  <tbody>\n",
       "    <tr>\n",
       "      <th>hughjanus756</th>\n",
       "      <td>3373</td>\n",
       "      <td>3373</td>\n",
       "    </tr>\n",
       "    <tr>\n",
       "      <th>seantuf</th>\n",
       "      <td>2199</td>\n",
       "      <td>2199</td>\n",
       "    </tr>\n",
       "    <tr>\n",
       "      <th>TrvpPapi</th>\n",
       "      <td>2059</td>\n",
       "      <td>2059</td>\n",
       "    </tr>\n",
       "    <tr>\n",
       "      <th>SaintBeau</th>\n",
       "      <td>1989</td>\n",
       "      <td>1989</td>\n",
       "    </tr>\n",
       "    <tr>\n",
       "      <th>dankherm</th>\n",
       "      <td>1899</td>\n",
       "      <td>1899</td>\n",
       "    </tr>\n",
       "    <tr>\n",
       "      <th>Ragg3d</th>\n",
       "      <td>1894</td>\n",
       "      <td>1894</td>\n",
       "    </tr>\n",
       "    <tr>\n",
       "      <th>Tanlere</th>\n",
       "      <td>1823</td>\n",
       "      <td>1823</td>\n",
       "    </tr>\n",
       "    <tr>\n",
       "      <th>LilAnakin</th>\n",
       "      <td>1781</td>\n",
       "      <td>1781</td>\n",
       "    </tr>\n",
       "    <tr>\n",
       "      <th>jw10387</th>\n",
       "      <td>1776</td>\n",
       "      <td>1776</td>\n",
       "    </tr>\n",
       "    <tr>\n",
       "      <th>kaofishy</th>\n",
       "      <td>1775</td>\n",
       "      <td>1775</td>\n",
       "    </tr>\n",
       "  </tbody>\n",
       "</table>\n",
       "</div>"
      ],
      "text/plain": [
       "              message  msg_token\n",
       "username                        \n",
       "hughjanus756     3373       3373\n",
       "seantuf          2199       2199\n",
       "TrvpPapi         2059       2059\n",
       "SaintBeau        1989       1989\n",
       "dankherm         1899       1899\n",
       "Ragg3d           1894       1894\n",
       "Tanlere          1823       1823\n",
       "LilAnakin        1781       1781\n",
       "jw10387          1776       1776\n",
       "kaofishy         1775       1775"
      ]
     },
     "execution_count": 29,
     "metadata": {},
     "output_type": "execute_result"
    }
   ],
   "source": [
    "# a few users sent a LOT of messages\n",
    "\n",
    "n = 10\n",
    "print(\"Top {} users by number of messages sent:\".format(n))\n",
    "user_freq.sort_values(by=\"message\", ascending=False).head(n)"
   ]
  },
  {
   "cell_type": "code",
   "execution_count": 30,
   "metadata": {},
   "outputs": [],
   "source": [
    "activity_over_time = nonstop.message.groupby(nonstop.index.to_period(freq='T')).count()"
   ]
  },
  {
   "cell_type": "code",
   "execution_count": 31,
   "metadata": {},
   "outputs": [
    {
     "data": {
      "text/plain": [
       "timestamp\n",
       "2021-10-16 00:00     361\n",
       "2021-10-16 00:01     558\n",
       "2021-10-16 00:02     898\n",
       "2021-10-16 00:03     898\n",
       "2021-10-16 00:04     697\n",
       "2021-10-16 00:05     873\n",
       "2021-10-16 00:06    1122\n",
       "2021-10-16 00:07    1461\n",
       "2021-10-16 00:08    1849\n",
       "2021-10-16 00:09    1738\n",
       "Freq: T, Name: message, dtype: int64"
      ]
     },
     "execution_count": 31,
     "metadata": {},
     "output_type": "execute_result"
    }
   ],
   "source": [
    "activity_over_time.head(10)"
   ]
  },
  {
   "cell_type": "code",
   "execution_count": 32,
   "metadata": {},
   "outputs": [],
   "source": [
    "chunks = activity_over_time.resample(rule=\"5Min\").sum()"
   ]
  },
  {
   "cell_type": "code",
   "execution_count": 33,
   "metadata": {},
   "outputs": [],
   "source": [
    "chunks = chunks.reset_index()"
   ]
  },
  {
   "cell_type": "code",
   "execution_count": 34,
   "metadata": {},
   "outputs": [],
   "source": [
    "chunks.loc[:, \"timestamp\"] = chunks.timestamp.dt.to_timestamp()"
   ]
  },
  {
   "cell_type": "code",
   "execution_count": 43,
   "metadata": {},
   "outputs": [
    {
     "data": {
      "text/plain": [
       "[Text(0.5, 0, 'Hours live'), Text(0, 0.5, '# messages')]"
      ]
     },
     "execution_count": 43,
     "metadata": {},
     "output_type": "execute_result"
    },
    {
     "data": {
      "image/png": "[encoded data removed]",
      "text/plain": [
       "<Figure size 1440x720 with 1 Axes>"
      ]
     },
     "metadata": {},
     "output_type": "display_data"
    }
   ],
   "source": [
    "sns.set(rc = {'figure.figsize':(20,10)})\n",
    "p = sns.lineplot(x=chunks.timestamp, y=chunks.message)\n",
    "p.set(xlabel = \"Hours live\", ylabel = \"# messages\")"
   ]
  },
  {
   "cell_type": "code",
   "execution_count": 36,
   "metadata": {},
   "outputs": [
    {
     "ename": "SyntaxError",
     "evalue": "unexpected EOF while parsing (<ipython-input-36-3f12b09f99bb>, line 3)",
     "output_type": "error",
     "traceback": [
      "\u001b[0;36m  File \u001b[0;32m\"<ipython-input-36-3f12b09f99bb>\"\u001b[0;36m, line \u001b[0;32m3\u001b[0m\n\u001b[0;31m    \u001b[0m\n\u001b[0m    ^\u001b[0m\n\u001b[0;31mSyntaxError\u001b[0m\u001b[0;31m:\u001b[0m unexpected EOF while parsing\n"
     ]
    }
   ],
   "source": [
    "# single item function\n",
    "def emotechunker(emoteid):\n",
    "    emoteid = nonstop.loc[nonstop['msg_token']]"
   ]
  }
 ],
 "metadata": {
  "interpreter": {
   "hash": "aee8b7b246df8f9039afb4144a1f6fd8d2ca17a180786b69acc140d282b71a49"
  },
  "kernelspec": {
   "display_name": "Python 3.9.9 64-bit",
   "language": "python",
   "name": "python3"
  },
  "language_info": {
   "codemirror_mode": {
    "name": "ipython",
    "version": 3
   },
   "file_extension": ".py",
   "mimetype": "text/x-python",
   "name": "python",
   "nbconvert_exporter": "python",
   "pygments_lexer": "ipython3",
   "version": "3.8.5"
  },
  "orig_nbformat": 4
 },
 "nbformat": 4,
 "nbformat_minor": 2
}
